{
 "cells": [
  {
   "cell_type": "code",
   "execution_count": 1,
   "id": "7a2944a7-4833-4db3-a22a-041832fb9015",
   "metadata": {},
   "outputs": [],
   "source": [
    "import re\n",
    "import pandas as pd\n"
   ]
  },
  {
   "cell_type": "code",
   "execution_count": 4,
   "id": "e7542601-b333-49b6-b543-4ea362a20015",
   "metadata": {},
   "outputs": [],
   "source": [
    "#opening the file to the program\n",
    "\n",
    "f=open('chat.txt','r',encoding ='utf-8')\n"
   ]
  },
  {
   "cell_type": "code",
   "execution_count": 7,
   "id": "34c4a6e7-4d3b-455d-841f-eb447c4ca8e1",
   "metadata": {},
   "outputs": [],
   "source": [
    "chat_data =f.read()\n"
   ]
  },
  {
   "cell_type": "code",
   "execution_count": 21,
   "id": "0cb4034b-622d-462b-a149-702495a5280b",
   "metadata": {},
   "outputs": [],
   "source": [
    "#print(chat_data)"
   ]
  },
  {
   "cell_type": "code",
   "execution_count": 17,
   "id": "50c2b488-95d7-4308-bcbd-39f5e60da846",
   "metadata": {},
   "outputs": [],
   "source": [
    "#it is the most correct version of the regular expression pattern which i got from chatgpt after invoking many failures ............\n",
    "pattern = '\\d{2}/\\d{2}/\\d{2}, \\d{1,2}:\\d{2}\\s?[ap]m\\s-\\s'"
   ]
  },
  {
   "cell_type": "code",
   "execution_count": 24,
   "id": "69d09158-4202-49eb-85b7-2cd3b55de01c",
   "metadata": {},
   "outputs": [],
   "source": [
    "#the last --->[1:] is only to remove some extra \n",
    "messages = re.split(pattern,chat_data)[1:]\n",
    "#messages"
   ]
  },
  {
   "cell_type": "code",
   "execution_count": 19,
   "id": "7f8f2d12-e5f8-47de-8c2f-75cd3a68b92c",
   "metadata": {},
   "outputs": [],
   "source": [
    "dates = re.findall(pattern,chat_data)"
   ]
  },
  {
   "cell_type": "code",
   "execution_count": 25,
   "id": "d08af06d-5283-4115-833c-e5e6abda6d92",
   "metadata": {},
   "outputs": [],
   "source": [
    "#dates"
   ]
  },
  {
   "cell_type": "code",
   "execution_count": null,
   "id": "68fd1563-4f73-42dd-b418-baa1b25b6231",
   "metadata": {},
   "outputs": [],
   "source": [
    "#making the pandas the data frame with a table format\n",
    "\n",
    "df =pd.DataFrame("
   ]
  }
 ],
 "metadata": {
  "kernelspec": {
   "display_name": "Python 3 (ipykernel)",
   "language": "python",
   "name": "python3"
  },
  "language_info": {
   "codemirror_mode": {
    "name": "ipython",
    "version": 3
   },
   "file_extension": ".py",
   "mimetype": "text/x-python",
   "name": "python",
   "nbconvert_exporter": "python",
   "pygments_lexer": "ipython3",
   "version": "3.8.3"
  }
 },
 "nbformat": 4,
 "nbformat_minor": 5
}
